{
 "cells": [
  {
   "cell_type": "code",
   "execution_count": 13,
   "metadata": {},
   "outputs": [],
   "source": [
    "%matplotlib inline\n",
    "import numpy as np\n",
    "import matplotlib.pyplot as plt\n",
    "from sklearn.datasets import load_files\n",
    "import os\n",
    "from sklearn.model_selection import train_test_split\n",
    "from sklearn.feature_extraction.text import TfidfVectorizer\n",
    "from sklearn.metrics import classification_report, accuracy_score\n",
    "from sklearn.ensemble import RandomForestClassifier\n",
    "from sklearn.feature_extraction.text import TfidfVectorizer, CountVectorizer\n",
    "from sklearn.neighbors import KNeighborsRegressor"
   ]
  },
  {
   "cell_type": "code",
   "execution_count": 2,
   "metadata": {},
   "outputs": [
    {
     "name": "stdout",
     "output_type": "stream",
     "text": [
      "Exception reporting mode: Plain\n"
     ]
    }
   ],
   "source": [
    "%xmode Plain\n",
    "%load_ext memory_profiler"
   ]
  },
  {
   "cell_type": "code",
   "execution_count": 29,
   "metadata": {},
   "outputs": [
    {
     "data": {
      "text/plain": [
       "array([[0.088, 0.107, 0.691, 0.114]])"
      ]
     },
     "execution_count": 29,
     "metadata": {},
     "output_type": "execute_result"
    }
   ],
   "source": [
    "category = 'energy'\n",
    "article_path = r'categories_articles/energy/‘I love energy,’ says trader who sees tremendous buying opportunity in the space.txt'\n",
    "f = open(article_path, 'r')\n",
    "f = open(article_path, 'r')\n",
    "f = f.read()\n",
    "\n",
    "data_train = load_files(os.path.join('tree_categories', category), encoding=\"utf-8\", decode_error=\"replace\")\n",
    "\n",
    "labels, counts = np.unique(data_train.target, return_counts=True)\n",
    "labels_sort = np.array(data_train.target_names)[labels]\n",
    "c_dict = dict(zip(labels_sort, counts))\n",
    "c_dict\n",
    "\n",
    "data_train\n",
    "\n",
    "text_train = data_train.data\n",
    "y_train = data_train.target\n",
    "\n",
    "cv = CountVectorizer(stop_words='english')\n",
    "cv.fit(text_train)\n",
    "X_train = cv.transform(text_train)\n",
    "X_test = cv.transform([f])\n",
    "\n",
    "rf = RandomForestClassifier(n_estimators=1000, n_jobs=-1, random_state=17)\n",
    "rf.fit(X_train, y_train);\n",
    "\n",
    "y_pred_prob = rf.predict_proba(X_test)\n",
    "y_pred_prob"
   ]
  },
  {
   "cell_type": "code",
   "execution_count": 30,
   "metadata": {},
   "outputs": [
    {
     "data": {
      "text/plain": [
       "['Brent crude', 'Coal', 'Crude oil', 'Natural gas']"
      ]
     },
     "execution_count": 30,
     "metadata": {},
     "output_type": "execute_result"
    }
   ],
   "source": [
    "data_train.target_names"
   ]
  },
  {
   "cell_type": "code",
   "execution_count": 31,
   "metadata": {},
   "outputs": [
    {
     "data": {
      "text/plain": [
       "array([[1, 0, 0, 2, 0, 0, 0, 0, 8, 1, 0, 0, 0, 0]], dtype=int64)"
      ]
     },
     "execution_count": 31,
     "metadata": {},
     "output_type": "execute_result"
    }
   ],
   "source": [
    "X_test.toarray()"
   ]
  },
  {
   "cell_type": "code",
   "execution_count": 32,
   "metadata": {},
   "outputs": [
    {
     "data": {
      "text/plain": [
       "array([[1, 0, 0, 1, 0, 0, 0, 0, 1, 1, 0, 0, 0, 0],\n",
       "       [0, 0, 0, 0, 0, 0, 1, 0, 0, 0, 0, 0, 0, 0],\n",
       "       [0, 0, 1, 0, 0, 0, 0, 0, 0, 0, 0, 0, 0, 0],\n",
       "       [1, 1, 0, 1, 1, 1, 0, 1, 1, 1, 1, 1, 1, 1]], dtype=int64)"
      ]
     },
     "execution_count": 32,
     "metadata": {},
     "output_type": "execute_result"
    }
   ],
   "source": [
    "X_train.toarray()"
   ]
  },
  {
   "cell_type": "code",
   "execution_count": 33,
   "metadata": {},
   "outputs": [
    {
     "data": {
      "text/plain": [
       "{'barrel': 0,\n",
       " 'crude': 3,\n",
       " 'opec': 9,\n",
       " 'oil': 8,\n",
       " 'gas': 6,\n",
       " 'coal': 2,\n",
       " 'forties': 5,\n",
       " 'oseberg': 10,\n",
       " 'ekofisk': 4,\n",
       " 'brent': 1,\n",
       " 'urals': 13,\n",
       " 'siberian': 12,\n",
       " 'light': 7,\n",
       " 'rebco': 11}"
      ]
     },
     "execution_count": 33,
     "metadata": {},
     "output_type": "execute_result"
    }
   ],
   "source": [
    "cv.vocabulary_"
   ]
  },
  {
   "cell_type": "code",
   "execution_count": null,
   "metadata": {},
   "outputs": [],
   "source": []
  },
  {
   "cell_type": "code",
   "execution_count": 42,
   "metadata": {},
   "outputs": [],
   "source": [
    "import joblib"
   ]
  },
  {
   "cell_type": "code",
   "execution_count": 43,
   "metadata": {},
   "outputs": [
    {
     "data": {
      "text/plain": [
       "['economy_classifier/finance/agricult/agricult_classifier_CV.sav']"
      ]
     },
     "execution_count": 43,
     "metadata": {},
     "output_type": "execute_result"
    }
   ],
   "source": [
    "joblib.dump(rf, r'economy_classifier/finance/agricult/agricult_classifier_RF.sav')\n",
    "joblib.dump(cv, r'economy_classifier/finance/agricult/agricult_classifier_CV.sav')"
   ]
  },
  {
   "cell_type": "code",
   "execution_count": 44,
   "metadata": {},
   "outputs": [
    {
     "data": {
      "text/plain": [
       "array([[0.696, 0.1  , 0.103, 0.101]])"
      ]
     },
     "execution_count": 44,
     "metadata": {},
     "output_type": "execute_result"
    }
   ],
   "source": [
    "loaded_model = joblib.load('economy_classifier/finance/agricult/agricult_classifier_RF.sav')\n",
    "y_pred_loaded = loaded_model.predict_proba(X_test)\n",
    "y_pred_loaded"
   ]
  },
  {
   "cell_type": "code",
   "execution_count": null,
   "metadata": {},
   "outputs": [],
   "source": []
  },
  {
   "cell_type": "code",
   "execution_count": null,
   "metadata": {},
   "outputs": [],
   "source": []
  },
  {
   "cell_type": "code",
   "execution_count": null,
   "metadata": {},
   "outputs": [],
   "source": []
  },
  {
   "cell_type": "code",
   "execution_count": null,
   "metadata": {},
   "outputs": [],
   "source": []
  },
  {
   "cell_type": "code",
   "execution_count": 62,
   "metadata": {},
   "outputs": [],
   "source": []
  },
  {
   "cell_type": "code",
   "execution_count": 17,
   "metadata": {},
   "outputs": [
    {
     "data": {
      "text/plain": [
       "array([1.])"
      ]
     },
     "execution_count": 17,
     "metadata": {},
     "output_type": "execute_result"
    }
   ],
   "source": [
    "category = 'energy'\n",
    "article_path = r'categories_articles/energy/‘I love energy,’ says trader who sees tremendous buying opportunity in the space.txt'\n",
    "f = open(article_path, 'r')\n",
    "f = open(article_path, 'r')\n",
    "f = f.read()\n",
    "\n",
    "data_train = load_files(os.path.join('tree_categories', category), encoding=\"utf-8\", decode_error=\"replace\")\n",
    "\n",
    "labels, counts = np.unique(data_train.target, return_counts=True)\n",
    "labels_sort = np.array(data_train.target_names)[labels]\n",
    "c_dict = dict(zip(labels_sort, counts))\n",
    "c_dict\n",
    "\n",
    "data_train\n",
    "\n",
    "text_train = data_train.data\n",
    "y_train = data_train.target\n",
    "\n",
    "cv = TfidfVectorizer(stop_words='english')\n",
    "cv.fit(text_train)\n",
    "X_train = cv.transform(text_train)\n",
    "X_test = cv.transform([f])\n",
    "\n",
    "rf = KNeighborsRegressor(n_neighbors=1, n_jobs=-1)\n",
    "rf.fit(X_train, y_train);\n",
    "\n",
    "y_pred_prob = rf.predict(X_test)\n",
    "y_pred_prob"
   ]
  },
  {
   "cell_type": "code",
   "execution_count": null,
   "metadata": {},
   "outputs": [],
   "source": [
    "\n"
   ]
  },
  {
   "cell_type": "code",
   "execution_count": null,
   "metadata": {},
   "outputs": [],
   "source": []
  },
  {
   "cell_type": "code",
   "execution_count": null,
   "metadata": {},
   "outputs": [],
   "source": []
  },
  {
   "cell_type": "code",
   "execution_count": null,
   "metadata": {},
   "outputs": [],
   "source": []
  }
 ],
 "metadata": {
  "kernelspec": {
   "display_name": "Python 3",
   "language": "python",
   "name": "python3"
  },
  "language_info": {
   "codemirror_mode": {
    "name": "ipython",
    "version": 3
   },
   "file_extension": ".py",
   "mimetype": "text/x-python",
   "name": "python",
   "nbconvert_exporter": "python",
   "pygments_lexer": "ipython3",
   "version": "3.8.2"
  }
 },
 "nbformat": 4,
 "nbformat_minor": 4
}
