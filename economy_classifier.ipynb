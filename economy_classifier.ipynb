{
 "cells": [
  {
   "cell_type": "code",
   "execution_count": 10,
   "metadata": {},
   "outputs": [],
   "source": [
    "import numpy as np\n",
    "import joblib\n",
    "from sklearn.datasets import load_files\n",
    "from sklearn.metrics import classification_report, accuracy_score\n",
    "from sklearn.feature_extraction.text import CountVectorizer"
   ]
  },
  {
   "cell_type": "code",
   "execution_count": 11,
   "metadata": {},
   "outputs": [
    {
     "name": "stdout",
     "output_type": "stream",
     "text": [
      "Exception reporting mode: Plain\n",
      "The memory_profiler extension is already loaded. To reload it, use:\n",
      "  %reload_ext memory_profiler\n"
     ]
    }
   ],
   "source": [
    "%xmode Plain\n",
    "%load_ext memory_profiler"
   ]
  },
  {
   "cell_type": "code",
   "execution_count": 97,
   "metadata": {},
   "outputs": [],
   "source": [
    "def article_classify(article: str, model_path: str, convect_path: str, diff_coef=.1) -> list:\n",
    "    \"\"\"\n",
    "    Gets an article text and model path and countvector path (which is used for transforming the article), \n",
    "    then classifies the article with that model and \n",
    "    returns list of string name of categories which the article belongs to\n",
    "    \n",
    "    params model_path: saved and trained classification model\n",
    "    params convect_path: saved and filled countvector\n",
    "    params diff_coef: the difference between the max category result and the others\n",
    "    \"\"\"\n",
    "    \n",
    "    categ_dict = np.array(['agricult', 'crypto', 'energy', 'metals'])\n",
    "    model = joblib.load(model_path) \n",
    "    convect = joblib.load(convect_path)\n",
    "    X_test = convect.transform([article])\n",
    "    \n",
    "    y_pred = model.predict_proba(X_test).reshape(-1)\n",
    "    result = categ_dict[y_pred > (y_pred.max() - diff_coef)]\n",
    "    \n",
    "    return result"
   ]
  },
  {
   "cell_type": "code",
   "execution_count": 112,
   "metadata": {},
   "outputs": [
    {
     "data": {
      "text/plain": [
       "(array([0.71800958, 0.13100581, 0.        , 0.15098461]),\n",
       " array(['agricult'], dtype='<U8'))"
      ]
     },
     "execution_count": 112,
     "metadata": {},
     "output_type": "execute_result"
    }
   ],
   "source": [
    "s = open(r'../StockMoon/StockMoon_categories/crypto/Speaker Update Bitstamp’s Miha Grčar Joins Barcelona Trading Conference.txt', 'rt').read()\n",
    "\n",
    "# сюда вставь свой путь к модели классификации и к векторам которые я кинул\n",
    "model = r'../StockMoon/economy_classifier_RF.sav'\n",
    "vectors = r'../StockMoon/economy_classifier_CV.sav'\n",
    "\n",
    "article_classify(s, model, vectors)"
   ]
  },
  {
   "cell_type": "code",
   "execution_count": null,
   "metadata": {},
   "outputs": [],
   "source": []
  },
  {
   "cell_type": "code",
   "execution_count": null,
   "metadata": {},
   "outputs": [],
   "source": []
  }
 ],
 "metadata": {
  "kernelspec": {
   "display_name": "Python 3",
   "language": "python",
   "name": "python3"
  },
  "language_info": {
   "codemirror_mode": {
    "name": "ipython",
    "version": 3
   },
   "file_extension": ".py",
   "mimetype": "text/x-python",
   "name": "python",
   "nbconvert_exporter": "python",
   "pygments_lexer": "ipython3",
   "version": "3.8.2"
  }
 },
 "nbformat": 4,
 "nbformat_minor": 4
}
