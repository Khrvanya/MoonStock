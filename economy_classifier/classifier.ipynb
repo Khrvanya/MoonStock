{
 "cells": [
  {
   "cell_type": "code",
   "execution_count": 1,
   "metadata": {},
   "outputs": [],
   "source": [
    "import numpy as np\n",
    "import joblib\n",
    "import os"
   ]
  },
  {
   "cell_type": "code",
   "execution_count": 2,
   "metadata": {},
   "outputs": [],
   "source": [
    "class Node:\n",
    "    def __init__(self, name: str, model_path=None, vectorizer_path=None, children_dict=None):\n",
    "        if children_dict is None:\n",
    "            children_dict = {}\n",
    "        self.name = name\n",
    "        self.__children_dict = children_dict        # dict of Nodes as values and Nodes.name as keys\n",
    "        self.__saved_model = None if model_path == None else joblib.load(model_path) \n",
    "        self.__saved_vectorizer = None if vectorizer_path == None else joblib.load(vectorizer_path)\n",
    "        \n",
    "    def get_children_dict(self):\n",
    "        return self.__children_dict\n",
    "    \n",
    "    def get_model(self):\n",
    "        return self.__saved_model\n",
    "        \n",
    "    def get_vectorizer(self):\n",
    "        return self.__saved_vectorizer"
   ]
  },
  {
   "cell_type": "code",
   "execution_count": 3,
   "metadata": {},
   "outputs": [],
   "source": [
    "def make_node_structure() -> Node:\n",
    "    \"\"\"\n",
    "    Makes a Node structure, which looks like a tree\n",
    "    Returns the tree root\n",
    "    \"\"\"\n",
    "\n",
    "    agricult = Node('argicult', os.path.join(os.path.abspath(os.curdir),\n",
    "                                             'finance/agricult/agricult_classifier_RF.sav'),\n",
    "                                os.path.join(os.path.abspath(os.curdir),\n",
    "                                             'finance/agricult/agricult_classifier_CV.sav'),\n",
    "                                {'cattle': Node('cattle'), 'corn': Node('corn'),\n",
    "                                             'soybean': Node('soybean'), 'sugar': Node('sugar')})\n",
    "    \n",
    "    crypto = Node('crypto', os.path.join(os.path.abspath(os.curdir),\n",
    "                                             'finance/crypto/crypto_classifier_RF.sav'),\n",
    "                            os.path.join(os.path.abspath(os.curdir),\n",
    "                                             'finance/crypto/crypto_classifier_CV.sav'),\n",
    "                        {'bitcoin': Node('bitcoin'), 'dash': Node('dash'),\n",
    "                         'ethereum': Node('ethereum'), 'litecoin': Node('litecoin'),\n",
    "                         'monero': Node('monero'), 'ripple': Node('ripple'), 'zash': Node('zash')})\n",
    "    \n",
    "    energy = Node('energy', os.path.join(os.path.abspath(os.curdir),\n",
    "                                             'finance/energy/energy_classifier_RF.sav'),\n",
    "                            os.path.join(os.path.abspath(os.curdir),\n",
    "                                             'finance/energy/energy_classifier_CV.sav'),\n",
    "                                {'brent crude': Node('brent crude'), 'coal': Node('coal'),\n",
    "                                 'crude oil': Node('crude oil'), 'natural gas': Node('natural gas')})\n",
    "    \n",
    "    metals = Node('metals', os.path.join(os.path.abspath(os.curdir),\n",
    "                                             'finance/metals/metals_classifier_RF.sav'),\n",
    "                            os.path.join(os.path.abspath(os.curdir),\n",
    "                                             'finance/metals/metals_classifier_CV.sav'),\n",
    "                                {'gold': Node('gold'), 'iron': Node('iron'),\n",
    "                                 'platinum': Node('platinum'), 'silver': Node('silver')})\n",
    "                    \n",
    "    finance = Node('finance', os.path.join(os.path.abspath(os.curdir),\n",
    "                                             'finance/finance_classifier_RF.sav'),\n",
    "                              os.path.join(os.path.abspath(os.curdir),\n",
    "                                             'finance/finance_classifier_CV.sav'),\n",
    "                                {'agricult': agricult, 'crypto': crypto,\n",
    "                                            'energy': energy, 'metals': metals})\n",
    "    \n",
    "    return finance"
   ]
  },
  {
   "cell_type": "code",
   "execution_count": 4,
   "metadata": {},
   "outputs": [],
   "source": [
    "def article_classification(article: str, node: Node, diff_coef=.1) -> list:\n",
    "    \"\"\"\n",
    "    Gets an article text and model path and countvector path (which is used for transforming the article), \n",
    "    then classifies the article with that model and \n",
    "    Returns list of string name of categories which the article belongs to\n",
    "    \n",
    "    params article: the article that has to be classified\n",
    "    params node: has filled countvector and trained classification model\n",
    "    params diff_coef: the difference between the max category result and the others\n",
    "    \"\"\"\n",
    "    \n",
    "    X_test = node.get_vectorizer().transform([article])\n",
    "    y_pred = node.get_model().predict_proba(X_test).reshape(-1)\n",
    "    result = np.array(list(node.get_children_dict()))[y_pred > (y_pred.max() - diff_coef)]\n",
    "    \n",
    "    return result"
   ]
  },
  {
   "cell_type": "code",
   "execution_count": 5,
   "metadata": {},
   "outputs": [],
   "source": [
    "def article_classification_tree(article: str, node=make_node_structure(), diff_coef=.1) -> dict:\n",
    "    \"\"\"\n",
    "    Classifies an article above all the tree, which you can see in node structure\n",
    "    Gets Node structure, article, diff_coef, which is metioned above\n",
    "    Returns a dictionary, which is used rucursively to create categories and \n",
    "    subcategories and ... which this article is in\n",
    "    \n",
    "    params article:  the text article that has to be classified\n",
    "    params node: a tree structure that classifies the article\n",
    "    params diff_coef: the difference between the max category result and the others\n",
    "    \"\"\"\n",
    "    \n",
    "    if not node.get_children_dict():\n",
    "        return None\n",
    "    \n",
    "    diction = {}\n",
    "    for category in article_classification(article, node, diff_coef):\n",
    "        diction[category] = article_classification_tree(article, node.get_children_dict()[category])\n",
    " \n",
    "    return diction"
   ]
  },
  {
   "cell_type": "code",
   "execution_count": 16,
   "metadata": {},
   "outputs": [],
   "source": [
    "article_path = r'../categories_articles/energy/5 charts show why the global economy is more vulnerable now than during SARS.txt'\n",
    "f = open(article_path, 'r')\n",
    "f = f.read()"
   ]
  },
  {
   "cell_type": "code",
   "execution_count": 18,
   "metadata": {},
   "outputs": [
    {
     "name": "stdout",
     "output_type": "stream",
     "text": [
      "32.9 s ± 857 ms per loop (mean ± std. dev. of 7 runs, 1 loop each)\n"
     ]
    }
   ],
   "source": [
    "%timeit article_classification_tree(f)"
   ]
  },
  {
   "cell_type": "code",
   "execution_count": 19,
   "metadata": {},
   "outputs": [
    {
     "name": "stdout",
     "output_type": "stream",
     "text": [
      "3min 6s ± 21.1 s per loop (mean ± std. dev. of 7 runs, 1 loop each)\n"
     ]
    }
   ],
   "source": [
    "%timeit make_node_structure()"
   ]
  },
  {
   "cell_type": "code",
   "execution_count": null,
   "metadata": {},
   "outputs": [],
   "source": []
  }
 ],
 "metadata": {
  "kernelspec": {
   "display_name": "Python 3",
   "language": "python",
   "name": "python3"
  },
  "language_info": {
   "codemirror_mode": {
    "name": "ipython",
    "version": 3
   },
   "file_extension": ".py",
   "mimetype": "text/x-python",
   "name": "python",
   "nbconvert_exporter": "python",
   "pygments_lexer": "ipython3",
   "version": "3.8.2"
  }
 },
 "nbformat": 4,
 "nbformat_minor": 4
}
